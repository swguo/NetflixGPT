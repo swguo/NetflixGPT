{
 "cells": [
  {
   "cell_type": "code",
   "execution_count": null,
   "metadata": {
    "colab": {
     "base_uri": "https://localhost:8080/"
    },
    "id": "TnKYQrpDiwl3",
    "outputId": "ce6d24a5-960d-4cc3-ae88-9e5102259eab"
   },
   "outputs": [],
   "source": [
    "!pip install gradio"
   ]
  },
  {
   "cell_type": "code",
   "execution_count": null,
   "metadata": {
    "colab": {
     "base_uri": "https://localhost:8080/"
    },
    "id": "tp0frphhiMK4",
    "outputId": "aaf8d842-b84b-46a6-b15d-dae327db7be3"
   },
   "outputs": [],
   "source": [
    "import torch\n",
    "from transformers import GPT2Tokenizer, GPT2LMHeadModel\n",
    "import gradio as gr\n",
    "import asyncio\n",
    "\n",
    "# 設定裝置為 GPU 或 CPU\n",
    "device = torch.device(\"cuda\" if torch.cuda.is_available() else \"cpu\")\n",
    "\n",
    "# 載入訓練好的模型和 tokenizer\n",
    "model_path = \"NetflixGPT-english\"  # 修改為你訓練模型的儲存路徑\n",
    "tokenizer = GPT2Tokenizer.from_pretrained(model_path)\n",
    "model = GPT2LMHeadModel.from_pretrained(model_path)\n",
    "model.to(device)\n",
    "model.eval()"
   ]
  },
  {
   "cell_type": "code",
   "execution_count": null,
   "metadata": {
    "id": "rDUw0ltFifcq"
   },
   "outputs": [],
   "source": [
    "# 定義生成描述的函數\n",
    "def generate_description(title, max_length=100):\n",
    "    # 構建輸入文本\n",
    "    input_text = f\"<|startoftext|>Title: {title} <|sep|>Description:\"\n",
    "    input_ids = tokenizer.encode(input_text, return_tensors=\"pt\").to(device)\n",
    "\n",
    "    # 使用模型進行生成\n",
    "    with torch.no_grad():\n",
    "        output = model.generate(\n",
    "            input_ids,\n",
    "            max_length=max_length,\n",
    "            num_return_sequences=1,\n",
    "            no_repeat_ngram_size=2,\n",
    "            pad_token_id=tokenizer.eos_token_id,\n",
    "            early_stopping=True\n",
    "        )\n",
    "\n",
    "    # 直接解碼從模型生成的部分\n",
    "    generated_text = tokenizer.decode(output[0][input_ids.shape[1]:], skip_special_tokens=True)\n",
    "    return generated_text.strip()\n",
    "\n",
    "# 定義逐字顯示的異步函數\n",
    "async def display_text(title):\n",
    "    description = generate_description(title)\n",
    "    displayed_text = \"\"\n",
    "    for char in description:\n",
    "        displayed_text += char\n",
    "        await asyncio.sleep(0.05)  # 控制每個字顯示的間隔時間\n",
    "        yield displayed_text\n",
    "\n",
    "\n"
   ]
  },
  {
   "cell_type": "code",
   "execution_count": null,
   "metadata": {
    "colab": {
     "base_uri": "https://localhost:8080/",
     "height": 650
    },
    "id": "Ydx7YzEDiuHI",
    "outputId": "ccb5be4d-a4db-42e9-fe78-eee15146f7c9"
   },
   "outputs": [],
   "source": [
    "\n",
    "# 使用 Gradio 創建介面\n",
    "iface = gr.Interface(\n",
    "    fn=display_text,\n",
    "    inputs=gr.Dropdown(choices=[\"Stranger Things\", \"Breaking Bad\", \"The Crown\"], label=\"Select a Title\"),\n",
    "    outputs=gr.Textbox(label=\"Generated Description\"),\n",
    "    title=\"Netflix Title Description Generator\",\n",
    "    description=\"Enter a Netflix title, and the model will generate a description.\"\n",
    ")\n",
    "# 啟動 Gradio 介面並指定埠\n",
    "iface.launch()"
   ]
  }
 ],
 "metadata": {
  "colab": {
   "provenance": []
  },
  "kernelspec": {
   "display_name": "base",
   "language": "python",
   "name": "python3"
  },
  "language_info": {
   "codemirror_mode": {
    "name": "ipython",
    "version": 3
   },
   "file_extension": ".py",
   "mimetype": "text/x-python",
   "name": "python",
   "nbconvert_exporter": "python",
   "pygments_lexer": "ipython3",
   "version": "3.9.18"
  }
 },
 "nbformat": 4,
 "nbformat_minor": 0
}
